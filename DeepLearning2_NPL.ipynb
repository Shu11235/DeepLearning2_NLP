{
 "cells": [
  {
   "cell_type": "code",
   "execution_count": 14,
   "id": "2e259a3e",
   "metadata": {},
   "outputs": [],
   "source": [
    "import numpy as np"
   ]
  },
  {
   "cell_type": "markdown",
   "id": "70e5eed0",
   "metadata": {},
   "source": [
    "# ユーザ定義関数"
   ]
  },
  {
   "cell_type": "code",
   "execution_count": 15,
   "id": "4757c932",
   "metadata": {},
   "outputs": [],
   "source": [
    "# 前処理をまとめた関数：corpus, word_to_id, id_to_word を出力\n",
    "def preprocess(text):\n",
    "    text = text.lower()\n",
    "    text = text.replace('.', ' .')\n",
    "    words = text.split(' ')\n",
    "\n",
    "    word_to_id = {}\n",
    "    id_to_word = {}\n",
    "    for word in words:\n",
    "        if word not in word_to_id:\n",
    "            new_id = len(word_to_id)\n",
    "            word_to_id[word] = new_id\n",
    "            id_to_word[new_id] = word\n",
    "\n",
    "    corpus = np.array([word_to_id[w] for w in words])\n",
    "\n",
    "    return corpus, word_to_id, id_to_word"
   ]
  },
  {
   "cell_type": "code",
   "execution_count": 16,
   "id": "f18ac667",
   "metadata": {},
   "outputs": [],
   "source": [
    "# 共起行列を得る関数\n",
    "def create_co_matrix(corpus, vocab_size, window_size=1):\n",
    "    '''共起行列の作成\n",
    "\n",
    "    :param corpus: コーパス（単語IDのリスト）\n",
    "    :param vocab_size:語彙数\n",
    "    :param window_size:ウィンドウサイズ（ウィンドウサイズが1のときは、単語の左右1単語がコンテキスト）\n",
    "    :return: 共起行列\n",
    "    '''\n",
    "    corpus_size = len(corpus)\n",
    "    co_matrix = np.zeros((vocab_size, vocab_size), dtype=np.int32)\n",
    "\n",
    "    for idx, word_id in enumerate(corpus):\n",
    "        for i in range(1, window_size + 1):\n",
    "            left_idx = idx - i\n",
    "            right_idx = idx + i\n",
    "\n",
    "            if left_idx >= 0:\n",
    "                left_word_id = corpus[left_idx]\n",
    "                co_matrix[word_id, left_word_id] += 1\n",
    "\n",
    "            if right_idx < corpus_size:\n",
    "                right_word_id = corpus[right_idx]\n",
    "                co_matrix[word_id, right_word_id] += 1\n",
    "\n",
    "    return co_matrix"
   ]
  },
  {
   "cell_type": "code",
   "execution_count": 17,
   "id": "f55d55e5",
   "metadata": {},
   "outputs": [],
   "source": [
    "# コサイン類似度を出力する関数\n",
    "def cos_similality(x, y, eps=1e-8):\n",
    "    nx = x / (np.sqrt(np.sum(x**2)) + eps)\n",
    "    ny = y / (np.sqrt(np.sum(y**2)) + eps)\n",
    "    return np.dot(nx, ny)"
   ]
  },
  {
   "cell_type": "code",
   "execution_count": 41,
   "id": "854d5d96",
   "metadata": {},
   "outputs": [],
   "source": [
    "# ある単語クエリに対して類似した単語を上位から順に表示する関数\n",
    "def most_similar(query, word_to_id, id_to_word, word_matrix, top=5):\n",
    "    # 1_クエリを取り出す\n",
    "    if query not in word_to_id:\n",
    "        print(f'{query} is not found') # f-string\n",
    "        return\n",
    "    print('\\n[query]' + query)\n",
    "    query_id = word_to_id[query]\n",
    "    query_vec = word_matrix[query_id]\n",
    "    # 2_コサイン類似度の算出\n",
    "    vocab_size = len(id_to_word)\n",
    "    similarity = np.zeros(vocab_size)\n",
    "    for i in range(vocab_size):\n",
    "        similarity[i] = cos_similality(word_matrix[i], query_vec)\n",
    "    # コサイン類似度の結果からその値を高い順に出力\n",
    "    count = 0\n",
    "    for i in (-1 * similarity).argsort():\n",
    "        if id_to_word[i] == query:\n",
    "            continue\n",
    "        print(f' {id_to_word[i]}: {similarity[i]}')\n",
    "        \n",
    "        count += 1\n",
    "        if count >= top:\n",
    "            return"
   ]
  },
  {
   "cell_type": "markdown",
   "id": "eef964a8",
   "metadata": {
    "toc": true
   },
   "source": [
    "<h1>Table of Contents<span class=\"tocSkip\"></span></h1>\n",
    "<div class=\"toc\"><ul class=\"toc-item\"><li><span><a href=\"#2.3_カウントベースの手法\" data-toc-modified-id=\"2.3_カウントベースの手法-1\"><span class=\"toc-item-num\">1&nbsp;&nbsp;</span>2.3_カウントベースの手法</a></span><ul class=\"toc-item\"><li><span><a href=\"#2.3.4_共起行列\" data-toc-modified-id=\"2.3.4_共起行列-1.1\"><span class=\"toc-item-num\">1.1&nbsp;&nbsp;</span>2.3.4_共起行列</a></span></li><li><span><a href=\"#2.3.5_ベクトル間の類似度\" data-toc-modified-id=\"2.3.5_ベクトル間の類似度-1.2\"><span class=\"toc-item-num\">1.2&nbsp;&nbsp;</span>2.3.5_ベクトル間の類似度</a></span></li><li><span><a href=\"#2.3.6_類似単語のランキング表示\" data-toc-modified-id=\"2.3.6_類似単語のランキング表示-1.3\"><span class=\"toc-item-num\">1.3&nbsp;&nbsp;</span>2.3.6_類似単語のランキング表示</a></span></li></ul></li></ul></div>"
   ]
  },
  {
   "cell_type": "code",
   "execution_count": null,
   "id": "d0dd4aa2",
   "metadata": {},
   "outputs": [],
   "source": []
  },
  {
   "cell_type": "markdown",
   "id": "1b6db54c",
   "metadata": {},
   "source": [
    "## 2.3_カウントベースの手法"
   ]
  },
  {
   "cell_type": "code",
   "execution_count": 18,
   "id": "9bda8b35",
   "metadata": {},
   "outputs": [],
   "source": [
    "text = 'You say goodby and I say hello.'"
   ]
  },
  {
   "cell_type": "code",
   "execution_count": 19,
   "id": "81190a4b",
   "metadata": {},
   "outputs": [
    {
     "data": {
      "text/plain": [
       "'you say goodby and i say hello .'"
      ]
     },
     "execution_count": 19,
     "metadata": {},
     "output_type": "execute_result"
    }
   ],
   "source": [
    "text = text.lower()\n",
    "text = text.replace('.', ' .')\n",
    "text"
   ]
  },
  {
   "cell_type": "code",
   "execution_count": 20,
   "id": "fce79543",
   "metadata": {
    "scrolled": true
   },
   "outputs": [
    {
     "data": {
      "text/plain": [
       "['you', 'say', 'goodby', 'and', 'i', 'say', 'hello', '.']"
      ]
     },
     "execution_count": 20,
     "metadata": {},
     "output_type": "execute_result"
    }
   ],
   "source": [
    "words = text.split(' ')\n",
    "words"
   ]
  },
  {
   "cell_type": "code",
   "execution_count": 21,
   "id": "1d729092",
   "metadata": {},
   "outputs": [],
   "source": [
    "# 単語IDから単語、単語から単語IDへの変換を可能にする辞書\n",
    "word_to_id = {}\n",
    "id_to_word = {}\n",
    "\n",
    "for word in words:\n",
    "    if word not in word_to_id:\n",
    "        new_id = len(word_to_id)\n",
    "        word_to_id[word] = new_id\n",
    "        id_to_word[new_id] = word"
   ]
  },
  {
   "cell_type": "code",
   "execution_count": 22,
   "id": "b60d3411",
   "metadata": {},
   "outputs": [
    {
     "name": "stdout",
     "output_type": "stream",
     "text": [
      "{'you': 0, 'say': 1, 'goodby': 2, 'and': 3, 'i': 4, 'hello': 5, '.': 6}\n"
     ]
    }
   ],
   "source": [
    "print(word_to_id)"
   ]
  },
  {
   "cell_type": "code",
   "execution_count": 23,
   "id": "2ed251fe",
   "metadata": {
    "scrolled": true
   },
   "outputs": [
    {
     "name": "stdout",
     "output_type": "stream",
     "text": [
      "{0: 'you', 1: 'say', 2: 'goodby', 3: 'and', 4: 'i', 5: 'hello', 6: '.'}\n"
     ]
    }
   ],
   "source": [
    "print(id_to_word)"
   ]
  },
  {
   "cell_type": "code",
   "execution_count": 24,
   "id": "226515b7",
   "metadata": {},
   "outputs": [
    {
     "data": {
      "text/plain": [
       "1"
      ]
     },
     "execution_count": 24,
     "metadata": {},
     "output_type": "execute_result"
    }
   ],
   "source": [
    "word_to_id['say']"
   ]
  },
  {
   "cell_type": "code",
   "execution_count": 25,
   "id": "18e0914c",
   "metadata": {},
   "outputs": [
    {
     "data": {
      "text/plain": [
       "'i'"
      ]
     },
     "execution_count": 25,
     "metadata": {},
     "output_type": "execute_result"
    }
   ],
   "source": [
    "id_to_word[4]"
   ]
  },
  {
   "cell_type": "code",
   "execution_count": 26,
   "id": "aa85720c",
   "metadata": {
    "scrolled": true
   },
   "outputs": [
    {
     "data": {
      "text/plain": [
       "array([0, 1, 2, 3, 4, 1, 5, 6])"
      ]
     },
     "execution_count": 26,
     "metadata": {},
     "output_type": "execute_result"
    }
   ],
   "source": [
    "# 単語のリストを単語IDのリストに変換\n",
    "corpus = [word_to_id[x] for x in words] \n",
    "corpus = np.array(corpus)\n",
    "corpus"
   ]
  },
  {
   "cell_type": "code",
   "execution_count": 27,
   "id": "de2a60ed",
   "metadata": {},
   "outputs": [],
   "source": [
    "text = 'You say goodby and I say hello.'\n",
    "corpus, word_to_id, id_to_word = preprocess(text)"
   ]
  },
  {
   "cell_type": "markdown",
   "id": "c972598f",
   "metadata": {},
   "source": [
    "### 2.3.4_共起行列"
   ]
  },
  {
   "cell_type": "code",
   "execution_count": 28,
   "id": "29b0c97f",
   "metadata": {},
   "outputs": [],
   "source": [
    "text = 'You say goodby and I say hello.'\n",
    "corpus, word_to_id, id_to_word = preprocess(text)"
   ]
  },
  {
   "cell_type": "code",
   "execution_count": 29,
   "id": "9fa4d5c5",
   "metadata": {},
   "outputs": [
    {
     "name": "stdout",
     "output_type": "stream",
     "text": [
      "[0 1 2 3 4 1 5 6]\n"
     ]
    }
   ],
   "source": [
    "print(corpus)"
   ]
  },
  {
   "cell_type": "code",
   "execution_count": 30,
   "id": "688ef894",
   "metadata": {},
   "outputs": [
    {
     "name": "stdout",
     "output_type": "stream",
     "text": [
      "{0: 'you', 1: 'say', 2: 'goodby', 3: 'and', 4: 'i', 5: 'hello', 6: '.'}\n"
     ]
    }
   ],
   "source": [
    "print(id_to_word)"
   ]
  },
  {
   "cell_type": "code",
   "execution_count": 31,
   "id": "6d02904e",
   "metadata": {},
   "outputs": [
    {
     "data": {
      "text/plain": [
       "array([[0, 1, 0, 0, 0, 0, 0],\n",
       "       [1, 0, 1, 0, 1, 1, 0],\n",
       "       [0, 1, 0, 1, 0, 0, 0],\n",
       "       [0, 0, 1, 0, 1, 0, 0],\n",
       "       [0, 1, 0, 1, 0, 0, 0],\n",
       "       [0, 1, 0, 0, 0, 0, 1],\n",
       "       [0, 0, 0, 0, 0, 1, 0]], dtype=int32)"
      ]
     },
     "execution_count": 31,
     "metadata": {},
     "output_type": "execute_result"
    }
   ],
   "source": [
    "# 共起行列を計算\n",
    "vocab_size = len(word_to_id) # 語彙数を指定\n",
    "C = create_co_matrix(corpus, vocab_size, window_size=1)\n",
    "C"
   ]
  },
  {
   "cell_type": "markdown",
   "id": "704bf8fe",
   "metadata": {},
   "source": [
    "### 2.3.5_ベクトル間の類似度"
   ]
  },
  {
   "cell_type": "markdown",
   "id": "439641b7",
   "metadata": {},
   "source": [
    "cosine similality\n",
    "similality(x, y) = x・y / (||x|| ||y||)\n",
    "2つのベクトルがどれだけ同じ方向を向いているかを表す。\n",
    "一致=1,　逆方向=-1"
   ]
  },
  {
   "cell_type": "code",
   "execution_count": 33,
   "id": "c756b91d",
   "metadata": {},
   "outputs": [],
   "source": [
    "text = 'You say goodby and I say hello.'\n",
    "corpus, word_to_id, id_to_word = preprocess(text)\n",
    "vocab_size = len(word_to_id)\n",
    "C = create_co_matrix(corpus, vocab_size)"
   ]
  },
  {
   "cell_type": "code",
   "execution_count": 34,
   "id": "1847e257",
   "metadata": {},
   "outputs": [
    {
     "name": "stdout",
     "output_type": "stream",
     "text": [
      "0.7071067691154799\n"
     ]
    }
   ],
   "source": [
    "c0 = C[word_to_id['you']] # 'you'の単語ベクトル\n",
    "c1 = C[word_to_id['i']] # 'i'の単語ベクトル\n",
    "print(cos_similality(c0, c1))"
   ]
  },
  {
   "cell_type": "markdown",
   "id": "b352a2eb",
   "metadata": {},
   "source": [
    "### 2.3.6_類似単語のランキング表示"
   ]
  },
  {
   "cell_type": "code",
   "execution_count": 42,
   "id": "fd5e58fa",
   "metadata": {},
   "outputs": [
    {
     "name": "stdout",
     "output_type": "stream",
     "text": [
      "\n",
      "[query]you\n",
      " goodby: 0.7071067691154799\n",
      " i: 0.7071067691154799\n",
      " hello: 0.7071067691154799\n",
      " say: 0.0\n",
      " and: 0.0\n"
     ]
    }
   ],
   "source": [
    "text = 'You say goodby and I say hello.'\n",
    "corpus, word_to_id, id_to_word = preprocess(text)\n",
    "vocab_size = len(word_to_id)\n",
    "C = create_co_matrix(corpus, vocab_size)\n",
    "\n",
    "most_similar('you', word_to_id, id_to_word, C, top=5)"
   ]
  },
  {
   "cell_type": "code",
   "execution_count": null,
   "id": "7114ed04",
   "metadata": {},
   "outputs": [],
   "source": [
    "test"
   ]
  },
  {
   "cell_type": "code",
   "execution_count": null,
   "id": "d0acf335",
   "metadata": {},
   "outputs": [],
   "source": []
  }
 ],
 "metadata": {
  "kernelspec": {
   "display_name": "Python 3 (ipykernel)",
   "language": "python",
   "name": "python3"
  },
  "language_info": {
   "codemirror_mode": {
    "name": "ipython",
    "version": 3
   },
   "file_extension": ".py",
   "mimetype": "text/x-python",
   "name": "python",
   "nbconvert_exporter": "python",
   "pygments_lexer": "ipython3",
   "version": "3.9.13"
  },
  "toc": {
   "base_numbering": 1,
   "nav_menu": {},
   "number_sections": true,
   "sideBar": true,
   "skip_h1_title": true,
   "title_cell": "Table of Contents",
   "title_sidebar": "Contents",
   "toc_cell": true,
   "toc_position": {
    "height": "calc(100% - 180px)",
    "left": "10px",
    "top": "150px",
    "width": "240.796875px"
   },
   "toc_section_display": true,
   "toc_window_display": true
  }
 },
 "nbformat": 4,
 "nbformat_minor": 5
}
